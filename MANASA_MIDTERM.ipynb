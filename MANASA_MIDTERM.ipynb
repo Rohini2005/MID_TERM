{
 "cells": [
  {
   "cell_type": "markdown",
   "id": "864f391a-3b7b-4abb-b277-8ee9f13cc5b2",
   "metadata": {},
   "source": [
    "MANASA_SWETHA\n",
    "\n",
    "MID_TERM EXAM\n",
    "\n",
    "Project : Community chat system extension"
   ]
  },
  {
   "cell_type": "markdown",
   "id": "8038ee48-5915-48fd-bd50-615fc15d8092",
   "metadata": {},
   "source": [
    "In this project I am working on a task of ifdentifying which of two systems a company should choose for an upcoming project"
   ]
  },
  {
   "cell_type": "markdown",
   "id": "c6ea1bd3-5664-47d8-8bd7-73ceaf55ad9f",
   "metadata": {},
   "source": [
    "IMPORT LIBRARIES\n",
    "\n",
    "Import the necessary libraries including the cassandra - driver cluster to interact with cassandra using python"
   ]
  },
  {
   "cell_type": "code",
   "execution_count": 57,
   "id": "828e5481-7a92-4fd8-b40e-581787bd1c2f",
   "metadata": {
    "tags": []
   },
   "outputs": [],
   "source": [
    "import pandas as pd\n",
    "from cassandra.cluster import Cluster"
   ]
  },
  {
   "cell_type": "markdown",
   "id": "42027ec3-80c7-42cf-81ab-16e732071069",
   "metadata": {
    "tags": []
   },
   "source": [
    "CONNECTION TO CASSANDRA CLUSTER"
   ]
  },
  {
   "cell_type": "code",
   "execution_count": 58,
   "id": "b7450d1e-6d04-412f-ac50-8a5384e9276a",
   "metadata": {
    "tags": []
   },
   "outputs": [],
   "source": [
    "clstr=Cluster()\n",
    "session=clstr.connect()"
   ]
  },
  {
   "cell_type": "markdown",
   "id": "2eee232a-a428-4162-8802-cab599309743",
   "metadata": {},
   "source": [
    " CREATE A KEYSPACE NAMED CP1  \n",
    " \n",
    " Keyspace defines the scope of the data and here we took replication factors as 3 which means the date gets replicated in 3 nodes."
   ]
  },
  {
   "cell_type": "code",
   "execution_count": 59,
   "id": "925e97a9-d449-44ea-9997-2075c9d1bc2b",
   "metadata": {
    "tags": []
   },
   "outputs": [
    {
     "data": {
      "text/plain": [
       "<cassandra.cluster.ResultSet at 0x7f1828fa42e0>"
      ]
     },
     "execution_count": 59,
     "metadata": {},
     "output_type": "execute_result"
    }
   ],
   "source": [
    "session.execute(\"CREATE KEYSPACE IF NOT EXISTS CP1 with replication ={'class': 'SimpleStrategy', 'replication_factor':3};\")"
   ]
  },
  {
   "cell_type": "markdown",
   "id": "70f53991-28f7-40e5-9fec-89a5fd48e9a8",
   "metadata": {
    "tags": []
   },
   "source": [
    "CREATE TABLE\n",
    "\n",
    "It defines the schema for users table , here the primary key is uesr_id"
   ]
  },
  {
   "cell_type": "code",
   "execution_count": 68,
   "id": "07a13eca-807e-4370-94ba-230b4da25f76",
   "metadata": {
    "tags": []
   },
   "outputs": [],
   "source": [
    "create_table_query=\"\"\"\n",
    "CREATE TABLE IF NOT EXISTS CP1.user_database(\n",
    "user_id int PRIMARY KEY,\n",
    "date INT,\n",
    "file_type text,\n",
    "file text,\n",
    ");\n",
    "\"\"\""
   ]
  },
  {
   "cell_type": "code",
   "execution_count": 69,
   "id": "5f92e441-13c2-4114-8817-39e83a38ee04",
   "metadata": {
    "tags": []
   },
   "outputs": [
    {
     "data": {
      "text/plain": [
       "<cassandra.cluster.ResultSet at 0x7f1828fee710>"
      ]
     },
     "execution_count": 69,
     "metadata": {},
     "output_type": "execute_result"
    }
   ],
   "source": [
    "session.execute(create_table_query)"
   ]
  },
  {
   "cell_type": "markdown",
   "id": "cfed7115-1f24-4ab3-988d-076535e0f315",
   "metadata": {
    "tags": []
   },
   "source": [
    "INSERT SAMPLE DATA\n",
    "\n",
    "Here we inserted the sample data into user_Database. It contains 5 rows of users information such as user_id, date, file_type and content of file .\n",
    "\n",
    "This data helps to analyse how many users are using the new functionaliy chat extension"
   ]
  },
  {
   "cell_type": "code",
   "execution_count": 70,
   "id": "47dcb62d-2792-4adb-bbab-d7927ed3f91c",
   "metadata": {
    "tags": []
   },
   "outputs": [
    {
     "data": {
      "text/plain": [
       "<cassandra.cluster.ResultSet at 0x7f18282b4850>"
      ]
     },
     "execution_count": 70,
     "metadata": {},
     "output_type": "execute_result"
    }
   ],
   "source": [
    "session.execute(\"INSERT INTO CP1.user_database (user_id, date, file_type, file) VALUES (101, 10042023, 'image', 'This is the image of my pet')\")\n",
    "session.execute(\"INSERT INTO CP1.user_database (user_id, date, file_type, file) VALUES (102, 10052023, 'video', 'This is the video of my wedding')\")\n",
    "session.execute(\"INSERT INTO CP1.user_database (user_id, date, file_type, file) VALUES (103, 10062023, 'text',  'Green is my favorite color')\")\n",
    "session.execute(\"INSERT INTO CP1.user_database (user_id, date, file_type, file) VALUES (104, 10072023, 'image', 'This is the image of my dress')\")\n",
    "session.execute(\"INSERT INTO CP1.user_database (user_id, date, file_type, file) VALUES (105, 10082023, 'text',  'I love being positive')\")"
   ]
  },
  {
   "cell_type": "markdown",
   "id": "b0dbcb1b-6407-4765-85b0-b0b9dc4050ef",
   "metadata": {},
   "source": [
    "CREATE INDEX\n",
    "\n",
    "In this we created an index on the column date witH CP1 Keyspace"
   ]
  },
  {
   "cell_type": "code",
   "execution_count": 71,
   "id": "4e427de8-49d9-42fc-949e-8d2d5b413442",
   "metadata": {
    "tags": []
   },
   "outputs": [
    {
     "data": {
      "text/plain": [
       "<cassandra.cluster.ResultSet at 0x7f18290008b0>"
      ]
     },
     "execution_count": 71,
     "metadata": {},
     "output_type": "execute_result"
    }
   ],
   "source": [
    "session.execute(\"CREATE INDEX IF NOT EXISTS project_index ON CP1.user_database (date)\")"
   ]
  },
  {
   "cell_type": "markdown",
   "id": "bfbb265b-79d5-4930-ab71-281dccfa91a9",
   "metadata": {},
   "source": [
    "This shows the result of the database "
   ]
  },
  {
   "cell_type": "code",
   "execution_count": 73,
   "id": "d605684a-e11c-4136-9b51-e2ded2808130",
   "metadata": {
    "tags": []
   },
   "outputs": [
    {
     "name": "stdout",
     "output_type": "stream",
     "text": [
      "Row(user_id=105, date=Date(-2137401625), file='I love being positive', file_type='text')\n",
      "Row(user_id=104, date=Date(-2137411625), file='This is the image of my dress', file_type='image')\n",
      "Row(user_id=102, date=Date(-2137431625), file='This is the video of my wedding', file_type='video')\n",
      "Row(user_id=101, date=Date(-2137441625), file='This is the image of my pet', file_type='image')\n",
      "Row(user_id=103, date=Date(-2137421625), file='Green is my favorite color', file_type='text')\n"
     ]
    }
   ],
   "source": [
    "result = session.execute(\"SELECT * FROM CP1.user_database\")\n",
    "\n",
    "for row in result:\n",
    "    print(row)"
   ]
  },
  {
   "cell_type": "markdown",
   "id": "7031e255-190c-498c-b976-0c90567a7a31",
   "metadata": {},
   "source": [
    "Here we updated the database by changing file type for user_id"
   ]
  },
  {
   "cell_type": "code",
   "execution_count": 76,
   "id": "0b57697e-4c93-48f2-9e7f-336d911872f0",
   "metadata": {
    "tags": []
   },
   "outputs": [
    {
     "data": {
      "text/plain": [
       "<cassandra.cluster.ResultSet at 0x7f18290656f0>"
      ]
     },
     "execution_count": 76,
     "metadata": {},
     "output_type": "execute_result"
    }
   ],
   "source": [
    "session.execute(f\"\"\" UPDATE CP1.user_database SET file_type = 'text' where user_id = 104\"\"\")"
   ]
  },
  {
   "cell_type": "markdown",
   "id": "0dcb516c-9553-45e3-a0fe-d89f3ce1f77d",
   "metadata": {},
   "source": [
    "This is the result after updating"
   ]
  },
  {
   "cell_type": "code",
   "execution_count": 77,
   "id": "daa72147-c6bf-4c8e-818b-0f43dd14f14b",
   "metadata": {
    "tags": []
   },
   "outputs": [
    {
     "name": "stdout",
     "output_type": "stream",
     "text": [
      "Row(user_id=105, date=Date(-2137401625), file='I love being positive', file_type='text')\n",
      "Row(user_id=104, date=Date(-2137411625), file='This is the image of my dress', file_type='text')\n",
      "Row(user_id=102, date=Date(-2137431625), file='This is the video of my wedding', file_type='video')\n",
      "Row(user_id=101, date=Date(-2137441625), file='This is the image of my pet', file_type='image')\n",
      "Row(user_id=103, date=Date(-2137421625), file='Green is my favorite color', file_type='text')\n"
     ]
    }
   ],
   "source": [
    "result = session.execute(\"SELECT * FROM CP1.user_database\")\n",
    "\n",
    "for row in result:\n",
    "    print(row)"
   ]
  },
  {
   "cell_type": "markdown",
   "id": "0d6b6933-8d75-414c-97c7-63c0f4dee2a4",
   "metadata": {},
   "source": [
    "Here we deleted the row for user_id = 101"
   ]
  },
  {
   "cell_type": "code",
   "execution_count": 78,
   "id": "55bd5b95-a348-4752-bba7-195cc4e29226",
   "metadata": {
    "tags": []
   },
   "outputs": [
    {
     "data": {
      "text/plain": [
       "<cassandra.cluster.ResultSet at 0x7f18282b4bb0>"
      ]
     },
     "execution_count": 78,
     "metadata": {},
     "output_type": "execute_result"
    }
   ],
   "source": [
    "session.execute(f\"\"\" DELETE from CP1.user_database where user_id = 101\"\"\")"
   ]
  },
  {
   "cell_type": "markdown",
   "id": "b4c302d0-4e0b-47cc-b2ca-6cbfd0b3ff3f",
   "metadata": {},
   "source": [
    "This is the result after deleting"
   ]
  },
  {
   "cell_type": "code",
   "execution_count": 93,
   "id": "60198af3-d420-416a-a6e0-fbb384187a5b",
   "metadata": {
    "tags": []
   },
   "outputs": [
    {
     "name": "stdout",
     "output_type": "stream",
     "text": [
      "Row(user_id=105, date=Date(-2137401625), file='I love being positive', file_type='text')\n",
      "Row(user_id=104, date=Date(-2137411625), file='This is the image of my dress', file_type='text')\n",
      "Row(user_id=102, date=Date(-2137431625), file='This is the video of my wedding', file_type='video')\n",
      "Row(user_id=103, date=Date(-2137421625), file='Green is my favorite color', file_type='text')\n"
     ]
    }
   ],
   "source": [
    "result = session.execute(\"SELECT * FROM CP1.user_database\")\n",
    "\n",
    "for row in result:\n",
    "    print(row)"
   ]
  },
  {
   "cell_type": "code",
   "execution_count": null,
   "id": "ec74ed4a-ec99-435f-a8f1-8a37be0eb29e",
   "metadata": {},
   "outputs": [],
   "source": []
  }
 ],
 "metadata": {
  "kernelspec": {
   "display_name": "Python 3 (ipykernel)",
   "language": "python",
   "name": "python3"
  },
  "language_info": {
   "codemirror_mode": {
    "name": "ipython",
    "version": 3
   },
   "file_extension": ".py",
   "mimetype": "text/x-python",
   "name": "python",
   "nbconvert_exporter": "python",
   "pygments_lexer": "ipython3",
   "version": "3.10.13"
  }
 },
 "nbformat": 4,
 "nbformat_minor": 5
}
